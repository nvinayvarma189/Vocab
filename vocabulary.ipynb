{
 "cells": [
  {
   "cell_type": "code",
   "execution_count": 1,
   "metadata": {},
   "outputs": [],
   "source": [
    "import pandas as pd\n",
    "import numpy as np\n",
    "import collections\n",
    "import re"
   ]
  },
  {
   "cell_type": "code",
   "execution_count": 2,
   "metadata": {},
   "outputs": [],
   "source": [
    "df = pd.read_csv('finaldataset.csv', sep='\\t', header = None)"
   ]
  },
  {
   "cell_type": "code",
   "execution_count": 3,
   "metadata": {},
   "outputs": [],
   "source": [
    "lines = []\n",
    "for line in df[0]:\n",
    "    lines.append(line.lower())\n",
    "    "
   ]
  },
  {
   "cell_type": "code",
   "execution_count": 4,
   "metadata": {},
   "outputs": [],
   "source": [
    "def clean_all(lines):\n",
    "    for i in range(len(lines)):\n",
    "        lines[i] = re.sub(r\"[-(){}\\\"@#$%^&*'!<>+=/:;.?,1234567890]\", \"\", lines[i])\n",
    "        lines[i] = re.sub(r\"i'm\", \"i am\", lines[i])\n",
    "        lines[i] = re.sub(r\"he's\", \"he is\", lines[i])\n",
    "        lines[i] = re.sub(r\"let's\", \"let us\", lines[i])\n",
    "        lines[i] = re.sub(r\"she's\", \"she is\", lines[i])\n",
    "        lines[i] = re.sub(r\"that's\", \"that is\", lines[i])\n",
    "        lines[i] = re.sub(r\"what's\", \"what is\", lines[i])\n",
    "        lines[i] = re.sub(r\"where's\", \"where is\", lines[i])\n",
    "        lines[i] = re.sub(r\"\\'ll\", \" will\", lines[i])\n",
    "        lines[i] = re.sub(r\"\\'ve\", \" have\", lines[i])\n",
    "        lines[i] = re.sub(r\"\\'re\", \" are\", lines[i])\n",
    "        lines[i] = re.sub(r\"\\'d\", \" would\", lines[i])\n",
    "        lines[i] = re.sub(r\"won't\", \"will not\", lines[i])\n",
    "        lines[i] = re.sub(r\"can't\", \"cannot\", lines[i])\n",
    "    return lines\n",
    "    "
   ]
  },
  {
   "cell_type": "code",
   "execution_count": 5,
   "metadata": {},
   "outputs": [],
   "source": [
    "words = []\n",
    "for word in lines:\n",
    "    for i in word.split():\n",
    "        words.append(i)\n"
   ]
  },
  {
   "cell_type": "code",
   "execution_count": 6,
   "metadata": {},
   "outputs": [],
   "source": [
    "counter = collections.Counter(words)"
   ]
  },
  {
   "cell_type": "code",
   "execution_count": 7,
   "metadata": {},
   "outputs": [],
   "source": [
    "word2freq = {}\n",
    "for line in counter.most_common():\n",
    "    word2freq[line[0]] = line[1] "
   ]
  },
  {
   "cell_type": "code",
   "execution_count": 8,
   "metadata": {},
   "outputs": [],
   "source": [
    "def cleanText(text):\n",
    "    text = text.lower()\n",
    "    text = re.sub(r\"i'm\", \"i am\", text)\n",
    "    text = re.sub(r\"he's\", \"he is\", text)\n",
    "    text = re.sub(r\"let's\", \"let us\", text)\n",
    "    text = re.sub(r\"she's\", \"she is\", text)\n",
    "    text = re.sub(r\"that's\", \"that is\", text)\n",
    "    text = re.sub(r\"what's\", \"what is\", text)\n",
    "    text = re.sub(r\"there's\", \"there is\", text)\n",
    "    text = re.sub(r\"where's\", \"where is\", text)\n",
    "    text = re.sub(r\"\\'ll\", \" will\", text)\n",
    "    text = re.sub(r\"\\'ve\", \" have\", text)\n",
    "    text = re.sub(r\"\\'re\", \" are\", text)\n",
    "    text = re.sub(r\"\\'d\", \" would\", text)\n",
    "    text = re.sub(r\"won't\", \"will not\", text)\n",
    "    text = re.sub(r\"can't\", \"cannot\", text)\n",
    "    text = re.sub(r\"[-()!{}\\\"“”@#$%^&*<>+=/:—;‘’——.?,]\", \"\", text)\n",
    "    return text"
   ]
  },
  {
   "cell_type": "code",
   "execution_count": 9,
   "metadata": {},
   "outputs": [
    {
     "name": "stdout",
     "output_type": "stream",
     "text": [
      "It signifies a series of data points regarding a sum of cosine functions different oscillating frequencies. The Discrete Cosine Transform is based on Fourier discrete transform and therefore, by compacting the variations it can be used to transform images and allowing an efficient dimensionality reduction.\n"
     ]
    }
   ],
   "source": [
    "s = input()\n",
    "s = cleanText(s)"
   ]
  },
  {
   "cell_type": "code",
   "execution_count": 10,
   "metadata": {},
   "outputs": [
    {
     "data": {
      "text/plain": [
       "'it signifies a series of data points regarding a sum of cosine functions different oscillating frequencies the discrete cosine transform is based on fourier discrete transform and therefore by compacting the variations it can be used to transform images and allowing an efficient dimensionality reduction'"
      ]
     },
     "execution_count": 10,
     "metadata": {},
     "output_type": "execute_result"
    }
   ],
   "source": [
    "s"
   ]
  },
  {
   "cell_type": "code",
   "execution_count": 11,
   "metadata": {},
   "outputs": [
    {
     "data": {
      "text/plain": [
       "['signifies',\n",
       " 'cosine',\n",
       " 'oscillating',\n",
       " 'frequencies',\n",
       " 'discrete',\n",
       " 'transform',\n",
       " 'fourier',\n",
       " 'compacting',\n",
       " 'variations',\n",
       " 'dimensionality']"
      ]
     },
     "execution_count": 11,
     "metadata": {},
     "output_type": "execute_result"
    }
   ],
   "source": [
    "extracted = []\n",
    "for w in s.lower().split():\n",
    "    if (len(w) >= 3) and w not in extracted:\n",
    "        try:\n",
    "            if (word2freq[w] < 15):\n",
    "                extracted.append(w)\n",
    "        except:\n",
    "            extracted.append(w)\n",
    "extracted"
   ]
  },
  {
   "cell_type": "code",
   "execution_count": 12,
   "metadata": {},
   "outputs": [],
   "source": [
    "def preprocess(word):\n",
    "    from bs4 import BeautifulSoup\n",
    "    import requests\n",
    "    from urllib.request import urlopen, Request\n",
    "    url = 'https://en.wiktionary.org/wiki/'+word\n",
    "    page = requests.get(url, headers={\"User-Agent\":\"Mozilla/5.0\"})\n",
    "    page = page.text\n",
    "    soup = BeautifulSoup(page, 'html.parser')\n",
    "    name_box = soup.find('span', attrs={'class': 'form-of-definition'})\n",
    "    try:\n",
    "        meaning = name_box.text\n",
    "        return meaning.split()[-1]\n",
    "    except:\n",
    "        return word\n"
   ]
  },
  {
   "cell_type": "code",
   "execution_count": 13,
   "metadata": {},
   "outputs": [
    {
     "name": "stdout",
     "output_type": "stream",
     "text": [
      "['signifier', 'cosina', 'oscillate', 'frequency', 'discreto', 'transform', 'fourier', 'compact', 'variation', 'dimensionality']\n"
     ]
    }
   ],
   "source": [
    "mean = []\n",
    "for i in range(len(extracted)):\n",
    "    mean.append(preprocess(extracted[i]))\n",
    "print(mean)"
   ]
  },
  {
   "cell_type": "code",
   "execution_count": 14,
   "metadata": {},
   "outputs": [
    {
     "name": "stdout",
     "output_type": "stream",
     "text": [
      "Final High Vocab words\n",
      "['signifier', 'cosina', 'oscillate', 'discreto', 'transform', 'fourier', 'compact', 'variation', 'dimensionality']\n"
     ]
    }
   ],
   "source": [
    "final_words = []\n",
    "for i in range(len(mean)):\n",
    "    if (len(mean[i]) >= 3):\n",
    "        try:\n",
    "            if (word2freq[mean[i]] < 15):\n",
    "                final_words.append(mean[i])\n",
    "        except:\n",
    "               final_words.append(mean[i])\n",
    "print(\"Final High Vocab words\")\n",
    "print(final_words)"
   ]
  },
  {
   "cell_type": "code",
   "execution_count": null,
   "metadata": {},
   "outputs": [],
   "source": []
  }
 ],
 "metadata": {
  "kernelspec": {
   "display_name": "Python 3",
   "language": "python",
   "name": "python3"
  },
  "language_info": {
   "codemirror_mode": {
    "name": "ipython",
    "version": 3
   },
   "file_extension": ".py",
   "mimetype": "text/x-python",
   "name": "python",
   "nbconvert_exporter": "python",
   "pygments_lexer": "ipython3",
   "version": "3.5.2"
  }
 },
 "nbformat": 4,
 "nbformat_minor": 2
}
